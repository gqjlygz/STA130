{
 "cells": [
  {
   "cell_type": "markdown",
   "id": "f94f50d2",
   "metadata": {},
   "source": [
    "### Analysis 1:"
   ]
  },
  {
   "cell_type": "markdown",
   "id": "6aeda129",
   "metadata": {},
   "source": [
    "•\t**A clear statement of the specific research question you’ve formulated.**"
   ]
  },
  {
   "cell_type": "markdown",
   "id": "de2ca156",
   "metadata": {},
   "source": [
    "Research question: Is there a relationship between the amount of time spent socializing with family members and levels of life satisfaction?"
   ]
  },
  {
   "cell_type": "markdown",
   "id": "cd328170",
   "metadata": {},
   "source": [
    "•\t**Describe the variables you plan to explore and how you plan on exploring them.**"
   ]
  },
  {
   "cell_type": "markdown",
   "id": "95b7161f",
   "metadata": {},
   "source": [
    "The two variables of interest are **WELLNESS_life_satisfaction** (\"On a scale of 1 to 10, how do you feel about your life as a whole right now?\") and **CONNECTION_social_time_family_p7d_grouped** (\"In the PAST WEEK, how many hours in total did you spend socializing with Family Members?\"). \n",
    "\n",
    "To visualize potential relationships between these variables, a scatter plot will be used. This allows us to observe any trends between family socialization and life satisfaction and provides a foundation for the subsequent linear regression analysis.\n"
   ]
  },
  {
   "cell_type": "markdown",
   "id": "06a76868",
   "metadata": {},
   "source": [
    "•\t**Describe the analysis you plan to perform.**"
   ]
  },
  {
   "cell_type": "markdown",
   "id": "0b564dbe",
   "metadata": {},
   "source": [
    "I will use simple linear regression to examine the relationship between family socialization time and life satisfaction, focusing on the slope β1 to determine if an association exists. The analysis will include the following steps: defining hypotheses (H₀: β1 = 0 vs. H₁: β1 ≠ 0), fitting the model via ‘statsmodels.formula.api’ to estimate β1, and using bootstrapping to generate an distribution of β1. The p-value will be calculated as the proportion of bootstrapped β1 values as extreme as the observed β1 hat; if it is below 0.05, I will reject H₀, concluding a significant relationship."
   ]
  },
  {
   "cell_type": "markdown",
   "id": "dcbf116d",
   "metadata": {},
   "source": [
    "•\t**Make a hypothesis for the possible results your analysis may produce and describe how these results would be relevant in answering your research question. If you have completed an analysis, you may include your results.**"
   ]
  },
  {
   "cell_type": "markdown",
   "id": "a7aa0aa2",
   "metadata": {},
   "source": [
    "I hypothesize that increased family socialization time is associated with higher life satisfaction. In testing this, the null hypothesis will assume that there is no relationship between family socialization time and life satisfaction, with a slope β1. If the analysis rejects the null hypothesis and β1 is significantly positive, it would suggest that family interactions are associated with greater happiness. Conversely, if the null hypothesis cannot be rejected, this would imply that family socialization may not have a strong association with life satisfaction, prompting exploration of other potential influences."
   ]
  },
  {
   "cell_type": "markdown",
   "id": "b4dca25b",
   "metadata": {},
   "source": [
    "#\n",
    "### Analysis 2:"
   ]
  },
  {
   "cell_type": "markdown",
   "id": "240928e3",
   "metadata": {},
   "source": [
    "•\t**A clear statement of the specific research question you’ve formulated.**"
   ]
  },
  {
   "cell_type": "markdown",
   "id": "89a1f155",
   "metadata": {},
   "source": [
    "Research question: Is there a relationship between the amount of time spent socializing with friends and levels of life satisfaction? "
   ]
  },
  {
   "cell_type": "markdown",
   "id": "a49bf161",
   "metadata": {},
   "source": [
    "•\t**Describe the variables you plan to explore and how you plan on exploring them.**"
   ]
  },
  {
   "cell_type": "markdown",
   "id": "f808ffdf",
   "metadata": {},
   "source": [
    "  The two variables of interest are **WELLNESS_life_satisfaction** (\"On a scale of 1 to 10, how do you feel about your life as a whole right now?\") and **CONNECTION_social_time_friends_p7d_grouped** (\"In the PAST WEEK, how many hours in total did you spend socializing with others from the following groups? - Friends\"). I chose these variables because they directly address my research question: one reflects overall life satisfaction, and the other measures the time spent on socializing with friends. To explore potential relationships between these variables, a scatter plot will be used, which allows us to observe any trends between friend socialization and life satisfaction and sets up the subsequent linear regression analysis."
   ]
  },
  {
   "cell_type": "markdown",
   "id": "0301d547",
   "metadata": {},
   "source": [
    "•\t**Describe the analysis you plan to perform.**"
   ]
  },
  {
   "cell_type": "markdown",
   "id": "cf49fe63",
   "metadata": {},
   "source": [
    "  I will use simple linear regression to examine the relationship between friend socialization time and life satisfaction, focusing on the slope β1 to determine if an association exists. The analysis will include the following steps: defining hypotheses (H₀: β1 = 0 ) vs. H₁: ( β1 ≠ 0 ), fitting the model via `statsmodels.formula.api` to estimate β1, and using bootstrapping to generate an distribution of β1. The p-value will be calculated as the proportion of bootstrapped β1 values as extreme as the observed β1 hat; if it is below 0.05, I will reject H₀, concluding a significant relationship."
   ]
  },
  {
   "cell_type": "markdown",
   "id": "9a21002f",
   "metadata": {},
   "source": [
    "•\t**Make a hypothesis for the possible results your analysis may produce and describe how these results would be relevant in answering your research question. If you have completed an analysis, you may include your results.**"
   ]
  },
  {
   "cell_type": "markdown",
   "id": "b76907f6",
   "metadata": {},
   "source": [
    "  I hypothesize that increased time spent socializing with friends is associated with higher life satisfaction. In testing this, the null hypothesis will assume that there is no relationship between friend socialization time and life satisfaction, with a slope β1 = 0. If the analysis rejects the null hypothesis and β1 is significantly positive, it would suggest that social interactions with friends have a meaningful impact on happiness. Conversely, if the null hypothesis cannot be rejected, this would imply that friend socialization may not be a primary factor in life satisfaction, prompting exploration of other potential influences."
   ]
  },
  {
   "cell_type": "markdown",
   "id": "c58bf06b",
   "metadata": {},
   "source": [
    "#\n",
    "### Analysis 3:"
   ]
  },
  {
   "cell_type": "markdown",
   "id": "e1ed42a0",
   "metadata": {},
   "source": [
    "•\t**A clear statement of the specific research question you’ve formulated.**"
   ]
  },
  {
   "cell_type": "markdown",
   "id": "f5d00279",
   "metadata": {},
   "source": [
    "Research question: Is there a relationship between the amount of time spent socializing with friends and levels of loneliness?"
   ]
  },
  {
   "cell_type": "markdown",
   "id": "b384277f",
   "metadata": {},
   "source": [
    "•\t**Describe the variables you plan to explore and how you plan on exploring them.**"
   ]
  },
  {
   "cell_type": "markdown",
   "id": "5ffc86c7",
   "metadata": {},
   "source": [
    "The two variables of interest are **LONELY_duration** (\"For about how long have you consistently felt that you were lonely?\") and **CONNECTION_social_time_friends_p7d_grouped** (\"In the PAST WEEK, how many hours in total did you spend socializing with others from the following groups? - Friends\"). I chose these variables because they directly address my research question: one reflects the duration of loneliness, and the other measures the time spent on socializing with friends. To explore potential relationships between these variables, a scatter plot will be used, allowing us to observe any trends between friend socialization and loneliness, and setting up the subsequent linear regression analysis."
   ]
  },
  {
   "cell_type": "markdown",
   "id": "64e0d236",
   "metadata": {},
   "source": [
    "•\t**Describe the analysis you plan to perform.**"
   ]
  },
  {
   "cell_type": "markdown",
   "id": "a2b70676",
   "metadata": {},
   "source": [
    "I will use simple linear regression to examine the relationship between friend socialization time and loneliness, focusing on the slope β1 to determine if an association exists. The analysis will include the following steps: defining hypotheses (H₀: β1 = 0 ) vs. H₁: ( β1 ≠ 0 ), fitting the model via `statsmodels.formula.api` to estimate β1, and using bootstrapping to generate an distribution of β1. The p-value will be calculated as the proportion of bootstrapped β1 values as extreme as the observed β1 hat; if it is below 0.05, I will reject H₀, concluding a significant relationship."
   ]
  },
  {
   "cell_type": "markdown",
   "id": "b066c6fa",
   "metadata": {},
   "source": [
    "•\t**Make a hypothesis for the possible results your analysis may produce and describe how these results would be relevant in answering your research question. If you have completed an analysis, you may include your results.**"
   ]
  },
  {
   "cell_type": "markdown",
   "id": "a53e7614",
   "metadata": {},
   "source": [
    "I hypothesize that increased time spent socializing with friends is associated with lower levels of loneliness. In testing this, the null hypothesis will assume that there is no relationship between friend socialization time and loneliness, with a slope β1 = 0. If the analysis rejects the null hypothesis and β1 is significantly positive, it would suggest that social interactions with friends help reduce feelings of loneliness. Conversely, if the null hypothesis cannot be rejected, this would imply that friend socialization may not be a primary factor in loneliness, prompting exploration of other potential influences."
   ]
  }
 ],
 "metadata": {
  "kernelspec": {
   "display_name": "Python 3 (ipykernel)",
   "language": "python",
   "name": "python3"
  },
  "language_info": {
   "codemirror_mode": {
    "name": "ipython",
    "version": 3
   },
   "file_extension": ".py",
   "mimetype": "text/x-python",
   "name": "python",
   "nbconvert_exporter": "python",
   "pygments_lexer": "ipython3",
   "version": "3.11.6"
  }
 },
 "nbformat": 4,
 "nbformat_minor": 5
}
