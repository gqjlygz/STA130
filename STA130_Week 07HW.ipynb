{
 "cells": [
  {
   "cell_type": "markdown",
   "id": "a86b5386",
   "metadata": {},
   "source": [
    "#\n",
    "### \"Pre-lecture\" HW"
   ]
  },
  {
   "cell_type": "markdown",
   "id": "b80b70a6",
   "metadata": {},
   "source": [
    "# \n",
    "### Question 1"
   ]
  },
  {
   "cell_type": "markdown",
   "id": "ccdddf75",
   "metadata": {},
   "source": [
    "1. the difference between Simple Linear Regression and Multiple Linear Regression; and the benefit the latter provides over the former\n",
    "- Simple Linear Regression (SLR) models the relationship between one independent variable and the dependent variable, using the form: I=β0+β1x+ε.\n",
    "- Multiple Linear Regression (MLR) incorporates multiple independent variables, represented as I=β0+β1x1+β2x2+⋯+βnxn+ε.\n",
    "- Benefit: MLR can account for the effects of multiple factors, enhancing model accuracy and providing a deeper understanding of each variable’s influence on the outcome.\n",
    "\n",
    "2. the difference between using a continuous variable and an indicator variable in Simple Linear Regression; and these two linear forms\n",
    "- Continuous variable: A variable that can take any numerical value within a range (e.g., height or age). In SLR, it allows for modeling a proportional change in the dependent variable based on the continuous variable’s value.\n",
    "- Indicator variable: A binary variable (0 or 1) representing group membership (e.g., male/female). In SLR, it models a shift in the dependent variable based on category presence.\n",
    "- Forms: For a continuous variable, I=β0+β1x+ε; for an indicator variable, I=β0+β1I+ε, where I represents the indicator variable.\n",
    "\n",
    "3. the change that happens in the behavior of the model (i.e., the expected nature of the data it models) when a single indicator variable is introduced alongside a continuous variable to create a Multiple Linear Regression; and these two linear forms (i.e., the Simple Linear Regression versus the Multiple Linear Regression)\n",
    "- Change in behavior: Introducing an indicator variable alongside a continuous variable in MLR allows the model to have different intercepts for different groups, while keeping the slope the same across groups.\n",
    "- Forms: SLR: I=β0+β1x+ε; MLR with indicator: I=β0+β1x+β2I+ε.\n",
    "\n",
    "4. the effect of adding an interaction between a continuous and an indicator variable in Multiple Linear Regression models; and this linear form\n",
    "- Interaction effect: Adding an interaction term (e.g., I=β0+β1x+β2I+β3(x⋅I)+ε) allows each group to have its own slope, meaning the relationship between the continuous variable and the outcome can vary between groups.\n",
    "- Form: Interaction MLR: I=β0+β1x+β2I+β3(x⋅I)+ε.\n",
    "\n",
    "5. the behavior of a Multiple Linear Regression model (i.e., the expected nature of the data it models) based only on indicator variables derived from a non-binary categorical variable; this linear form; and the necessarily resulting binary variable encodings it utilizes\n",
    "- Behavior: Using only indicator variables derived from a non-binary categorical variable (e.g., job types) allows MLR to model separate intercepts for each category.\n",
    "- Form: I=β0+β1I1+β2I2+⋯+βkIk+ε, where each indicator variable represents a specific category.\n",
    "- Binary Encoding: Non-binary categorical variables are encoded using dummy (one-hot) encoding, with each category represented by a binary variable, and one category often set as the reference to avoid redundancy."
   ]
  },
  {
   "cell_type": "markdown",
   "id": "10794917",
   "metadata": {},
   "source": [
    "# \n",
    "### Question 2"
   ]
  },
  {
   "cell_type": "markdown",
   "id": "702aa4fe",
   "metadata": {},
   "source": [
    "**Outcome and Predictor Variables:** The outcome variable is the effectiveness of the advertising campaign, likely measured by sales or revenue generated from sports equipment. The predictor variables are the budgets for TV and online advertising, both of which are continuous variables representing the amount spent on each medium.\n",
    "\n",
    "**Meaningful Interactions:** An interaction between TV and online advertising budgets should be considered, as the effectiveness of one advertising platform may depend on the spending level of the other, potentially leading to a synergistic effect that could more accurately predict campaign outcomes.\n",
    "\n",
    "**Linear Forms with and without Interaction:**\n",
    "- Without Interaction:\n",
    "Effectiveness = Intercept + (Effect of TV Budget) × (TV Budget) + (Effect of Online Budget) × (Online Budget) + Error, where TV and online advertising are assumed to act independently.\n",
    "\n",
    "- With Interaction:\n",
    "Effectiveness = Intercept + (Effect of TV Budget) × (TV Budget) + (Effect of Online Budget) × (Online Budget) + (Interaction Effect) × (TV Budget × Online Budget) + Error, capturing the combined influence of both budgets when they interact."
   ]
  },
  {
   "cell_type": "markdown",
   "id": "ee51750d",
   "metadata": {},
   "source": [
    "**Summaries of GPT session:**\n",
    "\n",
    "- In this chat, we examined predicting advertising effectiveness by modeling TV and Online Budgets as predictor variables. We explored a basic model without interaction and a model with interaction to capture the combined effect of both budgets, helping understand how each impacts effectiveness independently and together.\n",
    "\n",
    "Chat log histories: https://chatgpt.com/share/66fb18cf-2d78-8013-8a88-df5ffb5285f8"
   ]
  },
  {
   "cell_type": "markdown",
   "id": "3cdf98e9",
   "metadata": {},
   "source": [
    "# \n",
    "### Question 3"
   ]
  },
  {
   "cell_type": "markdown",
   "id": "2fc4886e",
   "metadata": {},
   "source": [
    "Here’s how to fit a multiple linear regression model using statsmodels.formula.api (abbreviated as smf). In this example, the analysis focuses on predicting life satisfaction (measured by WELLNESS_life_satisfaction) based on two predictor variables: whether the individual is a student (DEMO_student) and the amount of time spent socializing with family in the past week (CONNECTION_social_time_family_p7d_grouped)."
   ]
  },
  {
   "cell_type": "markdown",
   "id": "6676e21d",
   "metadata": {},
   "source": [
    "**Explanation of Variables**\n",
    "- Dependent variable (outcome): WELLNESS_life_satisfaction – This measures the respondent's current life satisfaction on a scale from 1 to 10.\n",
    "- Independent variables (predictors):\n",
    "DEMO_student – An indicator variable (1 if the respondent is a student, 0 if not).\n",
    "CONNECTION_social_time_family_p7d_grouped – The total hours spent socializing with family in the past week."
   ]
  },
  {
   "cell_type": "code",
   "execution_count": null,
   "id": "979ee83c",
   "metadata": {},
   "outputs": [],
   "source": [
    "import statsmodels.formula.api as smf\n",
    "\n",
    "# Convert 'DEMO_student' to an indicator variable\n",
    "data['DEMO_student'] = data['DEMO_student'].apply(lambda x: 1 if x == 'Yes' else 0)\n",
    "\n",
    "# Define the model\n",
    "model = smf.ols(formula='WELLNESS_life_satisfaction ~ DEMO_student + CONNECTION_social_time_family_p7d_grouped', data=data)\n",
    "\n",
    "# Fit the model\n",
    "results = model.fit()\n",
    "\n",
    "# Print the summary of results\n",
    "print(results.summary())\n"
   ]
  },
  {
   "cell_type": "markdown",
   "id": "a62ff919",
   "metadata": {},
   "source": [
    "This code will provide a summary of the regression model, showing the relationships between life satisfaction and both being a student and the time spent socializing with family. This setup allows for understanding the independent effects of both variables and their potential contribution to explaining variations in life satisfaction."
   ]
  },
  {
   "cell_type": "markdown",
   "id": "d4ac01da",
   "metadata": {},
   "source": [
    "**Summaries of GPT session:**\n",
    "\n",
    "- In this chat, we discussed fitting a multiple linear regression model to predict life satisfaction using smf with data from the Canadian Social Connection Survey. The outcome variable is life satisfaction, and the predictors are student status (an indicator variable) and time spent socializing with family. The code provided uses these variables to fit the model and analyze their impact on life satisfaction.\n",
    "\n",
    "\n",
    "Chat log histories: https://chatgpt.com/share/66fb18cf-2d78-8013-8a88-df5ffb5285f8"
   ]
  },
  {
   "cell_type": "markdown",
   "id": "da1b0d1d",
   "metadata": {},
   "source": [
    "# \n",
    "### Question 4"
   ]
  },
  {
   "cell_type": "markdown",
   "id": "35f8c880",
   "metadata": {},
   "source": [
    "The apparent contradiction arises because R-squared and p-values measure different aspects of the model. R-squared indicates that the model explains only 17.6% of the total variability in the data, suggesting many factors are not captured, while significant p-values for the coefficients indicate that individual predictors have a strong relationship with the outcome. A low R-squared doesn't mean the predictors aren't useful, but rather that the model doesn't account for much of the unexplained variance, which could be due to missing variables, non-linear relationships, or inherent data variability. The p-values reflect the significance of predictors, even if the overall model fit is weak.\n",
    "\n",
    "For example, imagine a model predicting house prices based on square footage and number of bedrooms. The R-squared value might be low (e.g., 20%), meaning the model doesn't explain much of the variation in prices. However, the coefficients for square footage and number of bedrooms might be large and statistically significant (low p-values), indicating that both factors strongly influence house prices, even if other important factors (like location or condition) are missing from the model. This shows that individual predictors can be important even if the overall model fit isn't great."
   ]
  },
  {
   "cell_type": "markdown",
   "id": "c6ca42b3",
   "metadata": {},
   "source": [
    "**Summaries of GPT session:**\n",
    "\n",
    "- In this conversation, we explained that a low R-squared (17.6%) shows the model doesn't explain much of the variability, while significant p-values indicate that individual predictors are still important. This occurs because R-squared measures overall fit, while p-values assess predictor significance. A house price example clarified that low R-squared doesn’t mean predictors are unimportant, just that the model misses some key factors.\n",
    "\n",
    "\n",
    "Chat log histories: https://chatgpt.com/share/66fb18cf-2d78-8013-8a88-df5ffb5285f8"
   ]
  },
  {
   "cell_type": "markdown",
   "id": "871c762e",
   "metadata": {},
   "source": [
    "#\n",
    "### \"Post-lecture\" HW"
   ]
  },
  {
   "cell_type": "markdown",
   "id": "ecfc5ce4",
   "metadata": {},
   "source": [
    "# \n",
    "### Question 5"
   ]
  },
  {
   "cell_type": "markdown",
   "id": "658c2c25",
   "metadata": {},
   "source": [
    "**What These Code Cells Are Illustrating:**\n",
    "- First and Second Cells: The process of preparing the dataset, splitting it into training and testing sets, and fitting a simple linear regression model using Attack and Defense to predict HP. The results of this model are then examined.\n",
    "\n",
    "- Third Cell: The comparison of in-sample and out-of-sample R-squared values, illustrating the model's ability to fit the training data versus its ability to generalize to unseen test data.\n",
    "\n",
    "- Fourth and Fifth Cells: The creation and evaluation of a more complex multiple linear regression model, including interaction terms between several predictors. The model is then evaluated for both in-sample and out-of-sample R-squared values to see how much better it performs compared to the simpler model."
   ]
  },
  {
   "cell_type": "markdown",
   "id": "f4a7a13e",
   "metadata": {},
   "source": [
    "**Summaries of GPT session:**\n",
    "\n",
    "- In this conversation, we discussed code illustrating the process of building and evaluating regression models using the Pokémon dataset. The steps include splitting the data into training and testing sets, fitting both simple and multiple linear regression models, and comparing their performance using in-sample and out-of-sample R-squared values. The first model uses basic predictors (`Attack` and `Defense`), while the second model adds interaction terms between multiple variables. The goal is to understand how the inclusion of more predictors and interactions impacts the model’s ability to explain the target variable (`HP`) and generalize to new data.\n",
    "\n",
    "\n",
    "Chat log histories: https://chatgpt.com/share/66fb18cf-2d78-8013-8a88-df5ffb5285f8"
   ]
  },
  {
   "cell_type": "markdown",
   "id": "20c0b303",
   "metadata": {},
   "source": [
    "# \n",
    "### Question 6"
   ]
  },
  {
   "cell_type": "markdown",
   "id": "67bb2668",
   "metadata": {},
   "source": [
    "**Extending model3_fit to model5_linear_form:**\n",
    "Model5 is an extension of model3 because it introduces more predictor variables and interactions. Model3 included only the predictors Attack and Defense, while model5 incorporates additional variables such as Speed, Legendary, and Sp. Atk, along with interaction terms between them. These extensions allow the model to capture more complex relationships and interactions, potentially improving predictive power.\n",
    "\n",
    "**Extending model5_linear_form to model6_linear_form:**\n",
    "Model6 builds on model5 by adding even more complexity, potentially including additional interaction terms or higher-order terms between predictors. The rationale for this extension is to explore further nuances in the relationships between the outcome variable (HP) and predictors. By increasing model complexity, we allow for a finer-grained understanding of how multiple factors might simultaneously influence the outcome, though this also risks overfitting.\n",
    "\n",
    "**Extending model6_linear_form to model7_linear_form:**\n",
    "Model7 takes the foundation of model6 and extends it further, likely by incorporating even more predictors or interactions. This step is intended to continue refining the model's explanatory power, capturing more detailed relationships. However, as the model becomes more complex, it can lead to diminishing returns, where additional variables may not provide much new information but could increase the risk of overfitting or multicollinearity."
   ]
  },
  {
   "cell_type": "markdown",
   "id": "10c39c1a",
   "metadata": {},
   "source": [
    "**Summaries of GPT session:**\n",
    "\n",
    "- In this conversation, we discussed the incremental development of regression models, starting from model3, which includes basic predictors, and expanding to model5, model6, and model7 by adding more predictors and interaction terms. Each extension aims to capture increasingly complex relationships and improve predictive accuracy, although increasing complexity can also raise risks like overfitting and multicollinearity.\n",
    "\n",
    "\n",
    "Chat log histories: https://chatgpt.com/share/66fb18cf-2d78-8013-8a88-df5ffb5285f8"
   ]
  },
  {
   "cell_type": "markdown",
   "id": "912669f5",
   "metadata": {},
   "source": [
    "# \n",
    "### Question 7"
   ]
  },
  {
   "cell_type": "markdown",
   "id": "03da4d8d",
   "metadata": {},
   "source": [
    "**Model5 Extension from Model3 and Model4:**\n",
    "Model5 is developed by expanding model3_fit and model4_fit to include a broader set of predictor variables. While model3_fit focused on basic predictors like Attack and Defense, and model4_fit incorporated interactions between variables, model5_linear_form includes additional features such as Speed, Legendary, and Q(\"Sp. Def\"), which capture more detailed characteristics of the Pokémon. It also introduces categorical variables like Generation, Type 1, and Type 2, reflecting the influence of specific Pokémon attributes on HP. This expansion aims to create a more comprehensive model that considers more potential influences, enhancing both in-sample and out-of-sample predictive performance.\n",
    "\n",
    "**Model6 Extension from Model5:**\n",
    "Model6 takes the core structure from model5_linear_form and further refines it by focusing on the most significant predictors and their interactions. It drops less relevant variables and introduces binary indicators for Type 1 (e.g., \"Normal\" and \"Water\") and specific Generation categories (e.g., Generation 2 and Generation 5). By reducing the feature set to the most impactful ones and introducing interaction terms, Model6 is better equipped to account for specific patterns in the data, which improves its ability to predict HP based on more targeted factors while maintaining simplicity.\n",
    "\n",
    "**Model7 Extension from Model6:**\n",
    "Model7 builds on model6_linear_form by incorporating interaction terms between multiple continuous variables such as Attack, Speed, Sp. Def, and Sp. Atk. These interactions allow the model to capture more complex relationships between the variables, making it more flexible and improving its ability to account for non-linear dependencies in the data. Additionally, Model7 retains the indicator variables for Generation and Type 1, maintaining its focus on important categorical predictors. The inclusion of these interactions aims to improve the model's predictive power, allowing it to perform better on both the training and testing data."
   ]
  },
  {
   "cell_type": "markdown",
   "id": "81582802",
   "metadata": {},
   "source": [
    "**Summaries of GPT session:**\n",
    "\n",
    "- In this conversation, we discussed how model5 builds on model3 and model4 by adding additional predictors and categorical variables to capture more complexity, enhancing prediction accuracy. Model6 refines this further, focusing on the most impactful predictors and relevant interactions to streamline the model while targeting key relationships. Model7 builds on model6 by adding interactions among continuous variables to capture non-linear effects, with centering and scaling applied to reduce multicollinearity and improve model stability. This stepwise approach demonstrates a progression from basic to complex model forms, each iteration enhancing the model’s ability to generalize and predict accurately.\n",
    "\n",
    "\n",
    "Chat log histories: https://chatgpt.com/share/66fb18cf-2d78-8013-8a88-df5ffb5285f8"
   ]
  },
  {
   "cell_type": "markdown",
   "id": "1e9a70dc",
   "metadata": {},
   "source": [
    "# \n",
    "### Question 8"
   ]
  },
  {
   "cell_type": "markdown",
   "id": "30cc6791",
   "metadata": {},
   "source": [
    "**Purpose:**\n",
    "The purpose of this demonstration is to evaluate the performance of a model by comparing its in-sample and out-of-sample prediction accuracy over multiple iterations. By repeatedly splitting the data into training and testing sets, fitting the model, and calculating both in-sample and out-of-sample R-squared values, we can assess how well the model generalizes to new data. This simulation helps to understand the variability of model performance across different splits and to highlight potential issues like overfitting or underfitting.\n",
    "\n",
    "**Explanation of Results:**\n",
    "The results of this demonstration give insight into how a model performs when applied to both the data it was trained on (in-sample) and new, unseen data (out-of-sample). The scatter plot visualizes the relationship between these two metrics across 100 repetitions. If the points lie close to the \"y=x\" line, it indicates that the model's performance is consistent between the training and testing sets, suggesting good generalization. However, if the points deviate significantly from this line, it may signal issues like overfitting (where the model performs well on training data but poorly on testing data) or other model limitations."
   ]
  },
  {
   "cell_type": "code",
   "execution_count": 1,
   "id": "175a6d7d",
   "metadata": {
    "collapsed": true
   },
   "outputs": [
    {
     "ename": "NameError",
     "evalue": "name 'pokeaman' is not defined",
     "output_type": "error",
     "traceback": [
      "\u001b[0;31m---------------------------------------------------------------------------\u001b[0m",
      "\u001b[0;31mNameError\u001b[0m                                 Traceback (most recent call last)",
      "Cell \u001b[0;32mIn[1], line 16\u001b[0m\n\u001b[1;32m     12\u001b[0m out_of_sample_Rsquared \u001b[38;5;241m=\u001b[39m np\u001b[38;5;241m.\u001b[39marray([\u001b[38;5;241m0.0\u001b[39m]\u001b[38;5;241m*\u001b[39mreps)\n\u001b[1;32m     14\u001b[0m \u001b[38;5;28;01mfor\u001b[39;00m i \u001b[38;5;129;01min\u001b[39;00m \u001b[38;5;28mrange\u001b[39m(reps):\n\u001b[1;32m     15\u001b[0m     \u001b[38;5;66;03m# Randomly split the data into training and testing sets\u001b[39;00m\n\u001b[0;32m---> 16\u001b[0m     pokeaman_train, pokeaman_test \u001b[38;5;241m=\u001b[39m train_test_split(\u001b[43mpokeaman\u001b[49m, train_size\u001b[38;5;241m=\u001b[39m\u001b[38;5;241m0.5\u001b[39m)\n\u001b[1;32m     18\u001b[0m     \u001b[38;5;66;03m# Fit the model to the training data\u001b[39;00m\n\u001b[1;32m     19\u001b[0m     model3_spec \u001b[38;5;241m=\u001b[39m smf\u001b[38;5;241m.\u001b[39mols(formula\u001b[38;5;241m=\u001b[39mmodel3_linear_form, data\u001b[38;5;241m=\u001b[39mpokeaman_train)\n",
      "\u001b[0;31mNameError\u001b[0m: name 'pokeaman' is not defined"
     ]
    }
   ],
   "source": [
    "import numpy as np\n",
    "import pandas as pd\n",
    "import plotly.express as px\n",
    "from sklearn.model_selection import train_test_split\n",
    "import statsmodels.formula.api as smf\n",
    "\n",
    "# Assuming pokeaman data is already defined\n",
    "model3_linear_form = 'HP ~ Attack + Defense'  # Example model from previous discussions\n",
    "\n",
    "reps = 100\n",
    "in_sample_Rsquared = np.array([0.0]*reps)\n",
    "out_of_sample_Rsquared = np.array([0.0]*reps)\n",
    "\n",
    "for i in range(reps):\n",
    "    # Randomly split the data into training and testing sets\n",
    "    pokeaman_train, pokeaman_test = train_test_split(pokeaman, train_size=0.5)\n",
    "    \n",
    "    # Fit the model to the training data\n",
    "    model3_spec = smf.ols(formula=model3_linear_form, data=pokeaman_train)\n",
    "    model3_fit = model3_spec.fit()\n",
    "    \n",
    "    # Calculate in-sample R-squared\n",
    "    in_sample_Rsquared[i] = model3_fit.rsquared\n",
    "    \n",
    "    # Calculate out-of-sample R-squared\n",
    "    yhat_model3 = model3_fit.predict(pokeaman_test)\n",
    "    y = pokeaman_test.HP\n",
    "    out_of_sample_Rsquared[i] = np.corrcoef(y, yhat_model3)[0, 1]**2\n",
    "\n",
    "# Collect results into a DataFrame\n",
    "df = pd.DataFrame({\n",
    "    \"In Sample Performance (Rsquared)\": in_sample_Rsquared,\n",
    "    \"Out of Sample Performance (Rsquared)\": out_of_sample_Rsquared\n",
    "})\n",
    "\n",
    "# Visualize the results\n",
    "fig = px.scatter(df, x=\"In Sample Performance (Rsquared)\", y=\"Out of Sample Performance (Rsquared)\")\n",
    "fig.add_trace(go.Scatter(x=[0, 1], y=[0, 1], name=\"y=x\", line_shape='linear'))\n",
    "fig.show()\n"
   ]
  },
  {
   "cell_type": "markdown",
   "id": "dc3e4715",
   "metadata": {},
   "source": [
    "**Summaries of GPT session:**\n",
    "\n",
    "- In this conversation, we discussed the purpose and meaning of evaluating model performance through in-sample and out-of-sample R-squared values. The purpose was to assess how well a model generalizes to new data by repeatedly splitting the dataset, training the model, and calculating R-squared for both the training and testing sets. The results showed how the model's performance varied across iterations, with the scatter plot visualizing the relationship between in-sample and out-of-sample R-squared. This process helps identify potential issues like overfitting and underfitting and assess model robustness.\n",
    "\n",
    "\n",
    "Chat log histories: https://chatgpt.com/share/66fb18cf-2d78-8013-8a88-df5ffb5285f8"
   ]
  },
  {
   "cell_type": "markdown",
   "id": "f6356ae0",
   "metadata": {},
   "source": [
    "# \n",
    "### Question 9"
   ]
  },
  {
   "cell_type": "markdown",
   "id": "22492073",
   "metadata": {},
   "source": [
    "**Explanation of the Illustration:**\n",
    "\n",
    "The illustration demonstrates the process of evaluating the performance of two linear regression models, model7 and model6, when tested on Pokémon data from different generations. Both models are trained and tested on various subsets of the data (e.g., training on Generation 1 and predicting future generations, training on Generations 1-5 and predicting Generation 6, etc.). This process helps assess each model's ability to generalize to new, unseen data, providing insights into their predictive power across different Pokémon generations.\n",
    "\n",
    "- Model7 (original):\n",
    "Initially, model7 is trained using all available Pokémon data. The in-sample R-squared value measures how well the model fits the training data, while the out-of-sample R-squared value indicates how well the model generalizes to new data. These values are compared to assess model performance.\n",
    "\n",
    "- Model7 (Generation 1 specific):\n",
    "In this variant, model7 is trained exclusively on Generation 1 Pokémon data. Its performance is then evaluated on data from other generations. This tests the model's ability to generalize beyond the training set and assess whether it performs well on data from Pokémon not seen during training.\n",
    "\n",
    "- Model7 (Generations 1 to 5):\n",
    "Here, model7 is trained on a broader dataset, covering Generations 1 to 5, and its performance is evaluated on Generation 6 data. This helps assess the model's ability to generalize when trained on a larger and more diverse set of data, providing further insight into its performance across generations.\n",
    "\n",
    "- Model6 (similar process as Model7):\n",
    "A similar process is applied to model6, a simpler linear regression model, to compare its performance with model7. Both in-sample and out-of-sample R-squared values are calculated for model6, allowing for a direct comparison of how a simpler model (model6) fares in relation to a more complex one (model7), particularly with respect to their ability to generalize across different data subsets.\n",
    "\n",
    "Through these steps, the illustration highlights key aspects of model performance, emphasizing the importance of generalizability and the trade-off between model complexity and predictive accuracy. It also demonstrates how training on different subsets of the data can impact a model's ability to predict unseen future data, which is a crucial consideration in model building and evaluation."
   ]
  },
  {
   "cell_type": "markdown",
   "id": "a9a0ef0d",
   "metadata": {},
   "source": [
    "**Summaries of GPT session:**\n",
    "\n",
    "- In this conversation, we discussed the process of testing and evaluating the generalizability of two linear regression models, model7 and model6, using Pokémon data from different generations. The models were trained on various subsets of the data (e.g., Generation 1, Generations 1-5) and tested on unseen data from other generations. We explained how \"in-sample\" and \"out-of-sample\" R-squared values were used to assess model performance and generalizability. The results highlighted the trade-off between model complexity and generalizability, emphasizing how simpler models (like model6) may offer better consistency and interpretability compared to more complex models (like model7), even if the latter initially performs better on training data.\n",
    "\n",
    "Chat log histories: https://chatgpt.com/share/66fb18cf-2d78-8013-8a88-df5ffb5285f8"
   ]
  }
 ],
 "metadata": {
  "kernelspec": {
   "display_name": "Python 3 (ipykernel)",
   "language": "python",
   "name": "python3"
  },
  "language_info": {
   "codemirror_mode": {
    "name": "ipython",
    "version": 3
   },
   "file_extension": ".py",
   "mimetype": "text/x-python",
   "name": "python",
   "nbconvert_exporter": "python",
   "pygments_lexer": "ipython3",
   "version": "3.11.6"
  }
 },
 "nbformat": 4,
 "nbformat_minor": 5
}
